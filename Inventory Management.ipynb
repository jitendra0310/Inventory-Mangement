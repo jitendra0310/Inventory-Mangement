{
 "cells": [
  {
   "cell_type": "markdown",
   "metadata": {},
   "source": [
    "# Question 2 \n",
    "\n",
    "Without class\n",
    "\n",
    "\n",
    "\n",
    "Layout function that gives the Inventory Layout"
   ]
  },
  {
   "cell_type": "code",
   "execution_count": 1,
   "metadata": {},
   "outputs": [],
   "source": [
    "def layout(p1,p2,p3,p4,p5):\n",
    "        print('Current Inventory ')\n",
    "        print('                   ')\n",
    "        print('ID| Items  | Qty ')\n",
    "        print('------------------')  \n",
    "        print(f\" {p1[0]}| {p1[1]}   |  {p1[2]}\")\n",
    "        print(f\" {p2[0]}| {p2[1]}  |  {p2[2]}\")\n",
    "        print(f\" {p3[0]}| {p3[1]}  |  {p3[2]}\")\n",
    "        print(f\" {p4[0]}| {p4[1]}    |  {p4[2]}\")\n",
    "        print(f\" {p5[0]}| {p5[1]} |  {p5[2]}\")"
   ]
  },
  {
   "cell_type": "markdown",
   "metadata": {},
   "source": [
    "Inventory Update function, takes in x,y which are user given, and represents productId and the quantity of the item respectively. This function updates the inventory after each order"
   ]
  },
  {
   "cell_type": "code",
   "execution_count": 2,
   "metadata": {},
   "outputs": [],
   "source": [
    "   def inv_upd(x,y):\n",
    "        p=[p1[2],p2[2],p3[2],p4[2],p5[2]]\n",
    "        if x in range(1,6):\n",
    "            if p[x-1] == 0:\n",
    "                print('                                     ')\n",
    "                print('Out of Stock, Please check again Later!')\n",
    "            elif p[x-1] < y:\n",
    "                print('                                     ')\n",
    "                print('Requested quantity exceeds the Available Quantity!')\n",
    "            elif p[x-1] >= y:\n",
    "                p[x - 1] -= y\n",
    "                p1[2],p2[2],p3[2],p4[2],p5[2]=p\n",
    "        else:\n",
    "            print('Please enter a Valid Product ID!')"
   ]
  },
  {
   "cell_type": "markdown",
   "metadata": {},
   "source": [
    "our input for the layout function"
   ]
  },
  {
   "cell_type": "code",
   "execution_count": 3,
   "metadata": {},
   "outputs": [],
   "source": [
    "p1=[1,'Apple',10]\n",
    "p2=[2,'Orange',12]\n",
    "p3=[3,'Banana',6]\n",
    "p4=[4,'Pear',5]\n",
    "p5=[5,'Avacado',1]"
   ]
  },
  {
   "cell_type": "markdown",
   "metadata": {},
   "source": [
    "Driver program that uses the above function as well as user inputs and updates the Inventory"
   ]
  },
  {
   "cell_type": "code",
   "execution_count": 4,
   "metadata": {
    "scrolled": true
   },
   "outputs": [
    {
     "name": "stdout",
     "output_type": "stream",
     "text": [
      "                    Welcome to the Shipt Store                     \n",
      "                                                                 \n",
      "Current Inventory \n",
      "                   \n",
      "ID| Items  | Qty \n",
      "------------------\n",
      " 1| Apple   |  10\n",
      " 2| Orange  |  12\n",
      " 3| Banana  |  6\n",
      " 4| Pear    |  5\n",
      " 5| Avacado |  1\n",
      "                                                                 \n",
      "Please enter the Product ID of the item : 1\n",
      "Please enter the Quantity of the item: 10\n",
      "----- Your items have been ordered-----\n",
      "                                                                 \n",
      "Current Inventory \n",
      "                   \n",
      "ID| Items  | Qty \n",
      "------------------\n",
      " 1| Apple   |  0\n",
      " 2| Orange  |  12\n",
      " 3| Banana  |  6\n",
      " 4| Pear    |  5\n",
      " 5| Avacado |  1\n",
      "                                                                 \n",
      "Please enter the Product ID of the item : 2\n",
      "Please enter the Quantity of the item: 12\n",
      "----- Your items have been ordered-----\n",
      "                                                                 \n",
      "Current Inventory \n",
      "                   \n",
      "ID| Items  | Qty \n",
      "------------------\n",
      " 1| Apple   |  0\n",
      " 2| Orange  |  0\n",
      " 3| Banana  |  6\n",
      " 4| Pear    |  5\n",
      " 5| Avacado |  1\n",
      "                                                                 \n",
      "Please enter the Product ID of the item : 3\n",
      "Please enter the Quantity of the item: 6\n",
      "----- Your items have been ordered-----\n",
      "                                                                 \n",
      "Current Inventory \n",
      "                   \n",
      "ID| Items  | Qty \n",
      "------------------\n",
      " 1| Apple   |  0\n",
      " 2| Orange  |  0\n",
      " 3| Banana  |  0\n",
      " 4| Pear    |  5\n",
      " 5| Avacado |  1\n",
      "                                                                 \n",
      "Please enter the Product ID of the item : 4\n",
      "Please enter the Quantity of the item: 5\n",
      "----- Your items have been ordered-----\n",
      "                                                                 \n",
      "Current Inventory \n",
      "                   \n",
      "ID| Items  | Qty \n",
      "------------------\n",
      " 1| Apple   |  0\n",
      " 2| Orange  |  0\n",
      " 3| Banana  |  0\n",
      " 4| Pear    |  0\n",
      " 5| Avacado |  1\n",
      "                                                                 \n",
      "Please enter the Product ID of the item : 5\n",
      "Please enter the Quantity of the item: 1\n",
      "----- Your items have been ordered-----\n",
      "                                                                 \n",
      "Current Inventory \n",
      "                   \n",
      "ID| Items  | Qty \n",
      "------------------\n",
      " 1| Apple   |  0\n",
      " 2| Orange  |  0\n",
      " 3| Banana  |  0\n",
      " 4| Pear    |  0\n",
      " 5| Avacado |  0\n",
      "                                                                 \n",
      "Whole inventory is out of Stock!\n"
     ]
    }
   ],
   "source": [
    "print('                    Welcome to the Shipt Store                     ')\n",
    "print('                                                                 ')\n",
    "p=[p1[2],p2[2],p3[2],p4[2],p5[2]]\n",
    "while True:\n",
    "    layout(p1,p2,p3,p4,p5)\n",
    "    print('                                                                 ')\n",
    "    x=int(input('Please enter the Product ID of the item : ')) # User Input x = product ID\n",
    "    y=int(input('Please enter the Quantity of the item: ')) # user input y= Quantity of the item ordered.\n",
    "    inv_upd(x,y)\n",
    "    if p[x-1]>=y:\n",
    "        print('----- Your items have been ordered-----')\n",
    "    print('                                                                 ')\n",
    "    p=[p1[2],p2[2],p3[2],p4[2],p5[2]]\n",
    "    if all(v==0 for v in p):\n",
    "        layout(p1,p2,p3,p4,p5)\n",
    "        print('                                                                 ')\n",
    "        print('Whole inventory is out of Stock!')\n",
    "        break\n",
    "#print (p)"
   ]
  }
 ],
 "metadata": {
  "kernelspec": {
   "display_name": "Python 3",
   "language": "python",
   "name": "python3"
  },
  "language_info": {
   "codemirror_mode": {
    "name": "ipython",
    "version": 3
   },
   "file_extension": ".py",
   "mimetype": "text/x-python",
   "name": "python",
   "nbconvert_exporter": "python",
   "pygments_lexer": "ipython3",
   "version": "3.7.3"
  }
 },
 "nbformat": 4,
 "nbformat_minor": 2
}
